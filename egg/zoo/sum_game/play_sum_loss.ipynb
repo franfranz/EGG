{
 "cells": [
  {
   "cell_type": "code",
   "execution_count": null,
   "id": "b6839deb",
   "metadata": {},
   "outputs": [],
   "source": [
    "# import modules \n",
    "import argparse\n",
    "\n",
    "import numpy as np\n",
    "import torch\n",
    "\n",
    "import torch.nn as nn\n",
    "import torch.nn.functional as F\n",
    "from torch.utils.data import DataLoader\n",
    "from torch.utils.data import Dataset\n",
    "\n",
    "import egg.core as core\n",
    "from egg.core import Callback, Interaction, PrintValidationEvents\n",
    "from egg.zoo.basic_games.architectures import DiscriReceiver, RecoReceiver, Sender"
   ]
  },
  {
   "cell_type": "code",
   "execution_count": null,
   "id": "5f83bcd3",
   "metadata": {},
   "outputs": [],
   "source": [
    "# set path and values\n",
    "\n",
    "# input file https://github.com/franfranz/EGG/blob/main/egg/zoo/sum_game/fullset_train.txt\n",
    "path=\"fullset_train.txt\" \n",
    "frame = np.loadtxt(path, dtype=\"S10\")\n",
    "n_attributes=2\n",
    "n_values=21\n",
    "\n",
    "batch_size=20\n",
    "# inspect\n",
    "#frame"
   ]
  },
  {
   "cell_type": "markdown",
   "id": "e58dd06d",
   "metadata": {},
   "source": [
    "## Reco game\n",
    "\n",
    "### AttValDataset - Reco\n",
    "\n",
    "The AttValRecoDataset class is used in the reconstruction game. It takes an input file with a\n",
    "space-delimited attribute-value vector per line and  creates a data-frame with the two mandatory fields expected in EGG games, namely sender_input and labels.\n",
    "In this case, the two fields contain the same information, namely the input attribute-value vectors,represented as one-hot in sender_input, and in the original integer-based format in labels.\n"
   ]
  },
  {
   "cell_type": "code",
   "execution_count": null,
   "id": "2b77b18f",
   "metadata": {},
   "outputs": [],
   "source": [
    "# AttValRecoDataset \n",
    "\n",
    "temp_reco =[]\n",
    "frame = np.loadtxt(path, dtype=\"S10\")    \n",
    "for row in frame:\n",
    "            if n_attributes == 1:\n",
    "                row = row.split()\n",
    "            config = list(map(int, row))\n",
    "            z = torch.zeros((n_attributes, n_values))\n",
    "            for i in range(n_attributes):\n",
    "                z[i, config[i]] = 1\n",
    "            label = torch.tensor(list(map(int, row)))\n",
    "            temp_reco.append((z.view(-1), label))\n",
    "            \n",
    "# inspect\n",
    "#temp_reco            "
   ]
  },
  {
   "cell_type": "markdown",
   "id": "a119d9b5",
   "metadata": {},
   "source": [
    "### Loss - Reco\n",
    "In the case of the recognition game, for each attribute we compute a different cross-entropy score based on comparing the probability distribution produced by the Receiver over the values of each attribute with the corresponding ground truth, and then averaging across attributes accuracy is instead computed by considering as a hit only cases where, for each attribute, the Receiver assigned the largest probability to the correct value most of this function consists of the usual pytorch madness needed to reshape tensors in order to perform these computations. "
   ]
  },
  {
   "cell_type": "code",
   "execution_count": null,
   "id": "e1ea3967",
   "metadata": {},
   "outputs": [],
   "source": [
    "        def loss(\n",
    "            sender_input, _message, _receiver_input, receiver_output, labels, _aux_input\n",
    "        ):\n",
    "            \n",
    "           # n_attributes = opts.n_attributes\n",
    "           # n_values = opts.n_values\n",
    "           # batch_size = sender_input.size(0)\n",
    "            receiver_output = receiver_output.view(batch_size * n_attributes, n_values)\n",
    "            receiver_guesses = receiver_output.argmax(dim=1)\n",
    "            correct_samples = (\n",
    "                (receiver_guesses == labels.view(-1))\n",
    "                .view(batch_size, n_attributes)\n",
    "                .detach()\n",
    "            )\n",
    "            acc = (torch.sum(correct_samples, dim=-1) == n_attributes).float()\n",
    "            labels = labels.view(batch_size * n_attributes)\n",
    "            loss = F.cross_entropy(receiver_output, labels, reduction=\"none\")\n",
    "            loss = loss.view(batch_size, -1).mean(dim=1)\n",
    "            return loss, {\"acc\": acc}"
   ]
  },
  {
   "cell_type": "code",
   "execution_count": null,
   "id": "df79e519",
   "metadata": {},
   "outputs": [],
   "source": [
    "     # again, see data_readers.py in this directory for the AttValRecoDataset data reading class\n",
    "        train_loader = DataLoader(\n",
    "            AttValRecoDataset(\n",
    "                path=path,\n",
    "                n_attributes=n_attributes,\n",
    "                n_values=n_values,\n",
    "            ),\n",
    "            #batch_size=opts.batch_size,\n",
    "            shuffle=True,\n",
    "            num_workers=1,\n",
    "        )\n",
    "\n",
    "        # the number of features for the Receiver (input) and the Sender (output) is given by n_attributes*n_values because\n",
    "        # they are fed/produce 1-hot representations of the input vectors\n",
    "        n_features = n_attributes * n_values"
   ]
  },
  {
   "cell_type": "markdown",
   "id": "ea3c0830",
   "metadata": {},
   "source": [
    "## Sum game\n",
    "\n",
    "### AttValDataset - Sum\n",
    "\n",
    "The AttValSumDataset class is used in the sum game. It takes an input file with a\n",
    "space-delimited attribute-value vector per line and creates a data-frame with sender_input and labels.\n",
    "\n",
    "Sender_input is a concatenation of the input integers, encoded as one-hot vectors. \n",
    "Labels is a one-hot vector indicating the sum of the two integers. "
   ]
  },
  {
   "cell_type": "code",
   "execution_count": null,
   "id": "09e5ba7c",
   "metadata": {},
   "outputs": [],
   "source": [
    "# this AttValSumDataset will substitute the Reco dataset in the Sum game\n",
    "\n",
    "temp_sum = []\n",
    "for row in frame:\n",
    "            config = list(map(int, row))\n",
    "            conf_sum = (config[0]+config[1])\n",
    "            conrow = [config[0], config[1], conf_sum]\n",
    "            z = torch.zeros((n_attributes, n_values))\n",
    "            for i in range(n_attributes):\n",
    "                z[i, config[i]] = 1\n",
    "            s_inp = torch.cat((z[0],z[1]))\n",
    "            label2=torch.zeros(n_attributes*n_values)\n",
    "            label2[conf_sum] = 1\n",
    "            temp_sum.append((s_inp, label2))\n",
    "\n",
    "# inspect\n",
    "#temp_sum"
   ]
  },
  {
   "cell_type": "markdown",
   "id": "5e11438b",
   "metadata": {},
   "source": [
    "### Loss - Sum \n",
    "In the case of the sum game, for each attribute we compute a different cross-entropy score between the output of the Receiver and the ground truth vector (labels). "
   ]
  },
  {
   "cell_type": "code",
   "execution_count": null,
   "id": "be2dd496",
   "metadata": {},
   "outputs": [],
   "source": [
    "        def loss(\n",
    "            sender_input, _message, _receiver_input, receiver_output, labels, _aux_input\n",
    "        ):\n",
    "            \n",
    "           # n_attributes = opts.n_attributes\n",
    "           # n_values = opts.n_values\n",
    "           # batch_size = sender_input.size(0)\n",
    "           # receiver_output = receiver_output.view(batch_size * n_attributes, n_values)\n",
    "            \n",
    "            # acc = (torch.sum(correct_samples, dim=-1) == n_attributes).float()\n",
    "            \n",
    "            #labels = labels.view(batch_size * n_attributes)\n",
    "            \n",
    "            loss = F.cross_entropy(receiver_output, labels, reduction=\"none\")\n",
    "            return loss, {\"acc\": acc}\n",
    "        "
   ]
  },
  {
   "cell_type": "code",
   "execution_count": null,
   "id": "1836a6b1",
   "metadata": {},
   "outputs": [],
   "source": []
  }
 ],
 "metadata": {
  "kernelspec": {
   "display_name": "Python 3",
   "language": "python",
   "name": "python3"
  },
  "language_info": {
   "codemirror_mode": {
    "name": "ipython",
    "version": 3
   },
   "file_extension": ".py",
   "mimetype": "text/x-python",
   "name": "python",
   "nbconvert_exporter": "python",
   "pygments_lexer": "ipython3",
   "version": "3.6.13"
  }
 },
 "nbformat": 4,
 "nbformat_minor": 5
}
